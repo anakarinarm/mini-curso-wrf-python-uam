{
 "cells": [
  {
   "cell_type": "markdown",
   "metadata": {
    "id": "ZQr2jvy5NAXN"
   },
   "source": [
    "# Mini curso: Manejo y análisis de salidas del modelo numérico WRF usando Python\n",
    "UAM Iztapalapa\n",
    "\n",
    "Día 1: Notebook 1/2 \n",
    "\n",
    "13 de diciembre de 2022\n",
    "## Fundamentos de Python\n",
    "\n",
    "Parte del material de este notebook está basado en la lección *Programming with Python* de los *Software Carpentry Workshops*, publicada bajo la licencia Creative Commons - Attribution License. Traducción y modificaciones por Karina Ramos Musalem. \n",
    "\n",
    "**Jupyter notebooks**\n",
    "\n",
    "Los Jupyter notebooks son una aplicación web de código abierto que combinan celdas de código, figuras, ecuaciones y texto. Soportan varios lenguajes de programación como Python, R y Julia entre otros. Se abren en cualquier navegador (explorer, firefox, safari, chrome,...). Hay distintas maneras de usar los notebooks. Si n quieres instalar nada en tu computadora puedes usar Google Collab con cualquier cuenta de Gmail, como tu correo institutional.\n",
    "\n",
    "Puedes cambiar el tipo de celda en la barra del encabezado seleccionando \"code\" para código y \"markdown\" para texto. Markdown es un lenguaje de marcado que tiene como objetivo facilitar la tarea de dar formato a un texto mediante el uso de solo caracteres. Aquí hay una [guía de uso en español](https://markdown.es/sintaxis-markdown/). Es muy común para escribir en internet y para tomar notas.\n",
    "\n",
    "Si das doble click en esta celda de texto verás cómo se da formato al texto. Los encabezados se denotan con #, ##, ###, etc., texto en negritas entre doble asterisco, itálicas entre asteriscos, ...\n",
    "\n",
    "Para ejecutar una celda da click en el botón Run en la barra de herramientas o puedes oprimir Shift+Enter. Esto último es lo más rápido, y con la práctica te acostubrarás a hacerlo en automático.\n",
    "\n",
    "Algo importante que considedar es el orden en el que ejecutas las celdas. Después de ejecutar una célda de código aparece un número del lado izquierdo que indica el orden en el que has ejecutado las celdas. La primera celda ejecutada tiene un 1, la segunda 2 y así sucesivamente. Si vuelves a ejecutar una celda, el número cambiará. Esto tendrá más sentido una vez que empecemos."
   ]
  },
  {
   "cell_type": "markdown",
   "metadata": {
    "id": "bzRy6Sg1OYW3"
   },
   "source": [
    "## 1. Variables y asignación de variables\n",
    "\n",
    "Preguntas a responder\n",
    "\n",
    "    ¿Con qué tipos de datos básicos puedo trabajar en Python?\n",
    "    ¿Cómo puedo crear variables en Python?\n",
    "    ¿Puedo cambiar el nuevo valor de una variable creada previamente?\n",
    "\n",
    "Objetivos\n",
    "\n",
    "    Aprender a asignar un valor a una variable.\n",
    "\n",
    "### 1.1 Variables\n",
    "\n",
    "Cualquier intérprete de Python puede usarse como una calculadora (intérprete=jupyter notebook, python en la terminal, ipython, etc)\n"
   ]
  },
  {
   "cell_type": "code",
   "execution_count": 1,
   "metadata": {
    "colab": {
     "base_uri": "https://localhost:8080/"
    },
    "executionInfo": {
     "elapsed": 22,
     "status": "ok",
     "timestamp": 1656468707949,
     "user": {
      "displayName": "Karina Ramos Musalem",
      "userId": "12077642953192237406"
     },
     "user_tz": 300
    },
    "id": "IWB1SkCVM5Ru",
    "outputId": "4ca7999e-f1e5-469e-debd-0d7089f34d53"
   },
   "outputs": [
    {
     "data": {
      "text/plain": [
       "23"
      ]
     },
     "execution_count": 1,
     "metadata": {},
     "output_type": "execute_result"
    }
   ],
   "source": [
    "3 + 5 * 4"
   ]
  },
  {
   "cell_type": "markdown",
   "metadata": {
    "id": "DV6OqCxROwJA"
   },
   "source": [
    "Esto está bien pero no es muy interesante. Para poder hacer algo útil con los datos debemos asignar su valor a una variable. En Python, asignamos un valor a una variable usando el signo de igual `=`. Por ejemplo, para asignar el valor 30 a la variable `peso_kg`, ejecutamos el comando:"
   ]
  },
  {
   "cell_type": "code",
   "execution_count": 2,
   "metadata": {
    "id": "yz1EUyZ-O84j"
   },
   "outputs": [],
   "source": [
    "peso_kg = 30"
   ]
  },
  {
   "cell_type": "markdown",
   "metadata": {
    "id": "iEn23Tl3Y0p1"
   },
   "source": [
    "\n",
    "\n",
    "De ahora en adelante, cada vez que usemos `peso_kg`, Python sustituirá el valor que le asignamos. En otras palabras, una variable es un \"nombre\" para un valor (en verdad una variable es un \"lugar\" en la memoria de la computdora, pero esa es otra historia.)\n",
    "\n",
    "En Python, los nombres de las variables:\n",
    "* pueden incluir letras, digitos y guión bajo,\n",
    "* no pueden empezar con un dígito,\n",
    "* son sensibles a mayúsculas y minúsculas.\n",
    "\n",
    "Por ejemplo:\n",
    "\n",
    "`peso0` es un nombre válido pero `0peso` no lo es,\n",
    "`peso` y `Peso` serán distintas variables."
   ]
  },
  {
   "cell_type": "markdown",
   "metadata": {
    "id": "333HZQUMu3-2"
   },
   "source": [
    "### 1.2 Tipos de datos o variables\n",
    "\n",
    "Python conoce distintos tipos de datos. Los tres más comúnes son:\n",
    "\n",
    "* números enteros (integers),\n",
    "* números decimales (floating point numbers) y\n",
    "* cadenas (strings).\n",
    "\n",
    "En el ejemplo anterior, la variable `peso_kg` contiene el valor entero`30`. Para crear una variable con valor decimal, podemos ejecutar:"
   ]
  },
  {
   "cell_type": "code",
   "execution_count": 3,
   "metadata": {
    "id": "NL-GV5xMuEuq"
   },
   "outputs": [],
   "source": [
    "peso_kg = 30.0"
   ]
  },
  {
   "cell_type": "markdown",
   "metadata": {
    "id": "43jX-SjyvEP4"
   },
   "source": [
    "y para crear una cadena o *string* añadimos comillas dobles o simples alrededor de algún pedazo de texto:"
   ]
  },
  {
   "cell_type": "code",
   "execution_count": 4,
   "metadata": {
    "id": "LReW7gCtvO3K"
   },
   "outputs": [],
   "source": [
    "peso_kg_texto = 'peso en kilogramos:'"
   ]
  },
  {
   "cell_type": "markdown",
   "metadata": {
    "id": "3frnnnmw_C-P"
   },
   "source": [
    "Podemos usar la función `type` para ver de qué tipo es un valor datos. La función `type` funciona en variables también, pero recuerda que valor es que tiene el tipo, la variable solo es una etiqueta para el valor:"
   ]
  },
  {
   "cell_type": "code",
   "execution_count": 5,
   "metadata": {
    "colab": {
     "base_uri": "https://localhost:8080/"
    },
    "executionInfo": {
     "elapsed": 20,
     "status": "ok",
     "timestamp": 1656468707951,
     "user": {
      "displayName": "Karina Ramos Musalem",
      "userId": "12077642953192237406"
     },
     "user_tz": 300
    },
    "id": "asdsLqze_goE",
    "outputId": "8e62b53e-016d-4f6d-c11a-d398e3638d9b"
   },
   "outputs": [
    {
     "name": "stdout",
     "output_type": "stream",
     "text": [
      "<class 'int'>\n"
     ]
    }
   ],
   "source": [
    "print(type(52))"
   ]
  },
  {
   "cell_type": "code",
   "execution_count": 6,
   "metadata": {
    "colab": {
     "base_uri": "https://localhost:8080/"
    },
    "executionInfo": {
     "elapsed": 17,
     "status": "ok",
     "timestamp": 1656468707952,
     "user": {
      "displayName": "Karina Ramos Musalem",
      "userId": "12077642953192237406"
     },
     "user_tz": 300
    },
    "id": "--5iIyh4_jr2",
    "outputId": "b5a5d347-f614-415a-8ce1-05a547e34c08"
   },
   "outputs": [
    {
     "name": "stdout",
     "output_type": "stream",
     "text": [
      "<class 'str'>\n"
     ]
    }
   ],
   "source": [
    "taco = 'pastor'\n",
    "print(type(taco))"
   ]
  },
  {
   "cell_type": "markdown",
   "metadata": {
    "id": "z-KoepsJBNT-"
   },
   "source": [
    "El tipo de un valor determina que le puede hacer el programa:\n"
   ]
  },
  {
   "cell_type": "code",
   "execution_count": 7,
   "metadata": {
    "colab": {
     "base_uri": "https://localhost:8080/"
    },
    "executionInfo": {
     "elapsed": 14,
     "status": "ok",
     "timestamp": 1656468707952,
     "user": {
      "displayName": "Karina Ramos Musalem",
      "userId": "12077642953192237406"
     },
     "user_tz": 300
    },
    "id": "NAzfif7tBpl7",
    "outputId": "991ac894-76a8-47ca-b56a-c71dbfe692a5"
   },
   "outputs": [
    {
     "name": "stdout",
     "output_type": "stream",
     "text": [
      "2\n"
     ]
    }
   ],
   "source": [
    "print(5 - 3)\n"
   ]
  },
  {
   "cell_type": "code",
   "execution_count": 8,
   "metadata": {
    "colab": {
     "base_uri": "https://localhost:8080/",
     "height": 171
    },
    "executionInfo": {
     "elapsed": 597,
     "status": "error",
     "timestamp": 1656468708539,
     "user": {
      "displayName": "Karina Ramos Musalem",
      "userId": "12077642953192237406"
     },
     "user_tz": 300
    },
    "id": "reasoOtiBryR",
    "outputId": "de3ac8d7-5456-4151-aaff-ed2e91704324"
   },
   "outputs": [
    {
     "ename": "TypeError",
     "evalue": "unsupported operand type(s) for -: 'str' and 'str'",
     "output_type": "error",
     "traceback": [
      "\u001b[0;31m---------------------------------------------------------------------------\u001b[0m",
      "\u001b[0;31mTypeError\u001b[0m                                 Traceback (most recent call last)",
      "\u001b[0;32m<ipython-input-8-35e8597b28d6>\u001b[0m in \u001b[0;36m<module>\u001b[0;34m\u001b[0m\n\u001b[0;32m----> 1\u001b[0;31m \u001b[0mprint\u001b[0m\u001b[0;34m(\u001b[0m\u001b[0;34m'hello'\u001b[0m \u001b[0;34m-\u001b[0m \u001b[0;34m'h'\u001b[0m\u001b[0;34m)\u001b[0m\u001b[0;34m\u001b[0m\u001b[0;34m\u001b[0m\u001b[0m\n\u001b[0m",
      "\u001b[0;31mTypeError\u001b[0m: unsupported operand type(s) for -: 'str' and 'str'"
     ]
    }
   ],
   "source": [
    "print('hello' - 'h')"
   ]
  },
  {
   "cell_type": "markdown",
   "metadata": {
    "id": "ZFhns-82AYJN"
   },
   "source": [
    "Los enteros y los decimales (floats) pueden mezclarse en operaciones aritméticas. Python 3 automáticamente convierte enteros a decimales cuando se requiere.\n",
    "\n"
   ]
  },
  {
   "cell_type": "code",
   "execution_count": 9,
   "metadata": {
    "colab": {
     "base_uri": "https://localhost:8080/"
    },
    "executionInfo": {
     "elapsed": 247,
     "status": "ok",
     "timestamp": 1656468721182,
     "user": {
      "displayName": "Karina Ramos Musalem",
      "userId": "12077642953192237406"
     },
     "user_tz": 300
    },
    "id": "iv9afwrYAohO",
    "outputId": "ba9c56a2-ccfb-4fd5-bc30-ad130f261046"
   },
   "outputs": [
    {
     "name": "stdout",
     "output_type": "stream",
     "text": [
      "0.5\n",
      "9.0\n"
     ]
    }
   ],
   "source": [
    "print(1 / 2.0)\n",
    "print(3.0 ** 2)"
   ]
  },
  {
   "cell_type": "markdown",
   "metadata": {
    "id": "ysSbMc-JvSp5"
   },
   "source": [
    "### 1.3 Uso de las variables\n",
    "\n",
    "Para mostrar el valor de una variable en la pantalla podemos usar la función `print`:"
   ]
  },
  {
   "cell_type": "code",
   "execution_count": 10,
   "metadata": {
    "colab": {
     "base_uri": "https://localhost:8080/"
    },
    "executionInfo": {
     "elapsed": 237,
     "status": "ok",
     "timestamp": 1656468723526,
     "user": {
      "displayName": "Karina Ramos Musalem",
      "userId": "12077642953192237406"
     },
     "user_tz": 300
    },
    "id": "Wy8GIB_ZvmR3",
    "outputId": "4ae8671d-d864-4c7e-c841-f01697c1c519"
   },
   "outputs": [
    {
     "name": "stdout",
     "output_type": "stream",
     "text": [
      "30.0\n"
     ]
    }
   ],
   "source": [
    "print(peso_kg)"
   ]
  },
  {
   "cell_type": "markdown",
   "metadata": {
    "id": "vZSdpQguvvVw"
   },
   "source": [
    "Podemos mostrar varias cosas a la vez con un solo comando `print`:"
   ]
  },
  {
   "cell_type": "code",
   "execution_count": 11,
   "metadata": {
    "colab": {
     "base_uri": "https://localhost:8080/"
    },
    "executionInfo": {
     "elapsed": 216,
     "status": "ok",
     "timestamp": 1656468725291,
     "user": {
      "displayName": "Karina Ramos Musalem",
      "userId": "12077642953192237406"
     },
     "user_tz": 300
    },
    "id": "az5R3yVhvp33",
    "outputId": "a6f9dcc1-735c-4018-ad3f-d3471c7011c3"
   },
   "outputs": [
    {
     "name": "stdout",
     "output_type": "stream",
     "text": [
      "peso en kilogramos: 30.0\n"
     ]
    }
   ],
   "source": [
    "print(peso_kg_texto, peso_kg)"
   ]
  },
  {
   "cell_type": "markdown",
   "metadata": {
    "id": "yuYd_yz9vyRp"
   },
   "source": [
    "Aún mejor, podemos hacer operaciones aritméticas entre variables dentro del comando print:"
   ]
  },
  {
   "cell_type": "code",
   "execution_count": 12,
   "metadata": {
    "colab": {
     "base_uri": "https://localhost:8080/"
    },
    "executionInfo": {
     "elapsed": 254,
     "status": "ok",
     "timestamp": 1656468726961,
     "user": {
      "displayName": "Karina Ramos Musalem",
      "userId": "12077642953192237406"
     },
     "user_tz": 300
    },
    "id": "mIrWN3ocv1rA",
    "outputId": "e9cb4f19-85b5-4f7b-8266-bd509db609a5"
   },
   "outputs": [
    {
     "name": "stdout",
     "output_type": "stream",
     "text": [
      "El peso en libras es: 66.0\n"
     ]
    }
   ],
   "source": [
    "print('El peso en libras es:', 2.2 * peso_kg)"
   ]
  },
  {
   "cell_type": "markdown",
   "metadata": {
    "id": "zkTj2urJv5kU"
   },
   "source": [
    "Nota que el comando anterior NO cambió el valor de peso_kg:"
   ]
  },
  {
   "cell_type": "code",
   "execution_count": 13,
   "metadata": {
    "colab": {
     "base_uri": "https://localhost:8080/"
    },
    "executionInfo": {
     "elapsed": 228,
     "status": "ok",
     "timestamp": 1656468728466,
     "user": {
      "displayName": "Karina Ramos Musalem",
      "userId": "12077642953192237406"
     },
     "user_tz": 300
    },
    "id": "LCFIpdEowAMg",
    "outputId": "208bea2c-0006-4498-8e84-0fe6894737de"
   },
   "outputs": [
    {
     "name": "stdout",
     "output_type": "stream",
     "text": [
      "30.0\n"
     ]
    }
   ],
   "source": [
    "print(peso_kg)"
   ]
  },
  {
   "cell_type": "markdown",
   "metadata": {
    "id": "hiFDn4crwPCU"
   },
   "source": [
    "Para cambiar el valor de peso_kg, debemos asignarle un nuevo valor usando el signo igual `=`:"
   ]
  },
  {
   "cell_type": "code",
   "execution_count": 14,
   "metadata": {
    "colab": {
     "base_uri": "https://localhost:8080/"
    },
    "executionInfo": {
     "elapsed": 253,
     "status": "ok",
     "timestamp": 1656468729778,
     "user": {
      "displayName": "Karina Ramos Musalem",
      "userId": "12077642953192237406"
     },
     "user_tz": 300
    },
    "id": "QTNP3BjdwSE1",
    "outputId": "f3f27423-82ba-4d81-8334-8dab1bbfff74"
   },
   "outputs": [
    {
     "name": "stdout",
     "output_type": "stream",
     "text": [
      "El peso en kg ahora es: 65.0\n"
     ]
    }
   ],
   "source": [
    "peso_kg = 65.0\n",
    "print('El peso en kg ahora es:', peso_kg)"
   ]
  },
  {
   "cell_type": "markdown",
   "metadata": {
    "id": "T_aRdIh0wWkY"
   },
   "source": [
    "Asignar un valor a una variable no cambia el valor de otras variables. Por ejemplo, si creamos una variable `peso_lb` como:"
   ]
  },
  {
   "cell_type": "code",
   "execution_count": 15,
   "metadata": {
    "colab": {
     "base_uri": "https://localhost:8080/"
    },
    "executionInfo": {
     "elapsed": 238,
     "status": "ok",
     "timestamp": 1656468730817,
     "user": {
      "displayName": "Karina Ramos Musalem",
      "userId": "12077642953192237406"
     },
     "user_tz": 300
    },
    "id": "3yazMmaPwdoL",
    "outputId": "23ff992d-f12b-48ef-9e28-9b1b9250f4ff"
   },
   "outputs": [
    {
     "name": "stdout",
     "output_type": "stream",
     "text": [
      "143.0\n"
     ]
    }
   ],
   "source": [
    "peso_lb = 2.2 * peso_kg\n",
    "print(peso_lb)"
   ]
  },
  {
   "cell_type": "markdown",
   "metadata": {
    "id": "BG_njZiXwc3P"
   },
   "source": [
    "y después cambiamos el valor de peso_kg:"
   ]
  },
  {
   "cell_type": "code",
   "execution_count": 16,
   "metadata": {
    "colab": {
     "base_uri": "https://localhost:8080/"
    },
    "executionInfo": {
     "elapsed": 256,
     "status": "ok",
     "timestamp": 1656468731845,
     "user": {
      "displayName": "Karina Ramos Musalem",
      "userId": "12077642953192237406"
     },
     "user_tz": 300
    },
    "id": "WHl59FNiwjYp",
    "outputId": "574130bc-c89b-4863-8d7c-c248835940a5"
   },
   "outputs": [
    {
     "name": "stdout",
     "output_type": "stream",
     "text": [
      "peso_kg es:  80.0 y peso_lb es:  143.0\n"
     ]
    }
   ],
   "source": [
    "peso_kg = 80.0\n",
    "print('peso_kg es: ', peso_kg, 'y peso_lb es: ', peso_lb)"
   ]
  },
  {
   "cell_type": "markdown",
   "metadata": {
    "id": "GHv6zeyOwleO"
   },
   "source": [
    "El valor de `peso_lb` no cambia. Esto es porque las variables no \"recuerdan\" de dónde viene su valor. Éste no se actualiza si cambiamos `peso_kg`."
   ]
  },
  {
   "cell_type": "markdown",
   "metadata": {
    "id": "vkCVBeLpwss5"
   },
   "source": [
    "#### Pon en práctica lo que aprendiste\n",
    "1. ¿Qué valores tienen las variables `temperatura` y `salinidad` después de ejecutar los comandos mostrados en la siguente celda?\n",
    "2. Comprueba tu respuesta ejecutando la celda siguiente y añadiendo el comando `print`con los **argumentos** necesarios para mostrar el valor de `temperatura`y `salinidad`. \n",
    "\n",
    "Nota: El **argumento** es la información que necesita el comando para ser ejecutado. Los argumentos son las variables o valores entre paréntesis después del comando. Por ejemplo, en `print('Hola mundo')`, el argumento del comando `print` es 'Hola mundo'."
   ]
  },
  {
   "cell_type": "code",
   "execution_count": 17,
   "metadata": {
    "id": "EdvMphd2w2Ul"
   },
   "outputs": [],
   "source": [
    "temperatura = 20.5\n",
    "salinidad = 50.2\n",
    "temperatura = temperatura * 2.0\n",
    "salinidad = salinidad - 20"
   ]
  },
  {
   "cell_type": "code",
   "execution_count": 18,
   "metadata": {
    "id": "vLouLcNfw73O"
   },
   "outputs": [],
   "source": [
    "# Añade el comando `print` en esta celda para desplegar el valor\n",
    "# de las variables temperatura y salinidad. Después ejecuta la celda."
   ]
  },
  {
   "cell_type": "markdown",
   "metadata": {
    "id": "zCiJlT0rw4ZQ"
   },
   "source": [
    "3. ¿Qué imprimirá el siguente progama?\n",
    "\n",
    "Comprueba tu respuesta quitando los # (denotan comentario) y ejecutando la celda."
   ]
  },
  {
   "cell_type": "code",
   "execution_count": 19,
   "metadata": {
    "colab": {
     "base_uri": "https://localhost:8080/"
    },
    "executionInfo": {
     "elapsed": 5,
     "status": "ok",
     "timestamp": 1656468734850,
     "user": {
      "displayName": "Karina Ramos Musalem",
      "userId": "12077642953192237406"
     },
     "user_tz": 300
    },
    "id": "AZuHhXuqxDDu",
    "outputId": "e305726b-13ba-4ca9-f1f6-da733770fffd"
   },
   "outputs": [],
   "source": [
    "#primero, segundo = 'Marie', 'Tharp'\n",
    "#tercero, cuarto = primero, segundo\n",
    "#print(tercero, cuarto)"
   ]
  },
  {
   "cell_type": "markdown",
   "metadata": {
    "id": "p3zRsHS74Jgw"
   },
   "source": [
    "### 1.4 Índices y rebanadas\n",
    "Podemos usar **índices** para aislar o seleccionar un solo caracter en una cadena.\n",
    "\n",
    "Los caracteres en una cadena están ordenados. Por ejemplo, la cadena 'AB' no es igual a la cadena 'BA'. Gracias a este orden podemos tratar a una cadena como una lista de caracteres.\n",
    "\n",
    "Cada posición en la cadena (primera, segunda, etc.) se identifica con un número entro llamado **índice**\n",
    "\n",
    "Los índices **comienzan a partir de `0`** y se indican dentro de paréntesis cuadrados `[]`:"
   ]
  },
  {
   "cell_type": "code",
   "execution_count": 20,
   "metadata": {
    "colab": {
     "base_uri": "https://localhost:8080/"
    },
    "executionInfo": {
     "elapsed": 256,
     "status": "ok",
     "timestamp": 1656468739218,
     "user": {
      "displayName": "Karina Ramos Musalem",
      "userId": "12077642953192237406"
     },
     "user_tz": 300
    },
    "id": "MeaUOea35UkY",
    "outputId": "1a2b353b-251a-4311-bb48-7d88c9d18d2b"
   },
   "outputs": [
    {
     "name": "stdout",
     "output_type": "stream",
     "text": [
      "h\n"
     ]
    }
   ],
   "source": [
    "atomo = 'helio'\n",
    "print(atomo[0])"
   ]
  },
  {
   "cell_type": "markdown",
   "metadata": {
    "id": "gduRehZp5zo4"
   },
   "source": [
    "Podemos seleccionar **rebanadas** o pedazos de una cadena formados por más de un caracter usando índices.\n",
    "\n",
    "Python usa **listas**, que son conjuntos de elementos (Ej. enteros, decimales, cadenas, listas, etc.). Podemos tratar a una cadena como una lista de caracteres. \n",
    "\n",
    "Una **rebanada** o *slice* es una parte o subselección de elementos de una lista, como una cadena.\n",
    "\n",
    "Podemos seleccionar una rebanada de una lista usando la notación `[inicio:final]` donde `inicio` es el índice del primer elemento que queremos seleccionar y `final` es el índice del elemento que está justo después del último elemento que queremos seleccionar.\n",
    "\n",
    "Tomar una rebanada no modifica la lista original; en cambio, nos regresa una copia de parte de la lista original.\n",
    "\n",
    "  \n"
   ]
  },
  {
   "cell_type": "code",
   "execution_count": 21,
   "metadata": {
    "colab": {
     "base_uri": "https://localhost:8080/"
    },
    "executionInfo": {
     "elapsed": 239,
     "status": "ok",
     "timestamp": 1656468740775,
     "user": {
      "displayName": "Karina Ramos Musalem",
      "userId": "12077642953192237406"
     },
     "user_tz": 300
    },
    "id": "jQv36H7F7fqX",
    "outputId": "4f668148-92af-49a5-f8c1-26b8e3a797f1"
   },
   "outputs": [
    {
     "name": "stdout",
     "output_type": "stream",
     "text": [
      "sod\n"
     ]
    }
   ],
   "source": [
    "atomo = 'sodio'\n",
    "print(atomo[0:3])"
   ]
  },
  {
   "cell_type": "markdown",
   "metadata": {
    "id": "vozfedws70LI"
   },
   "source": [
    "#### Pon en práctica lo que aprendiste\n",
    "\n",
    "Dada la siguente cadena:\n",
    "\n",
    "`especie = \"Acacia buxifolia\"`\n",
    "\n",
    "1. ¿Qué regresan las siguientes expresiones?:\n",
    "\n",
    "    `especie[2:8]`\n",
    "   \n",
    "    `especie[11:] `\n",
    "   \n",
    "    `especie[:4]`\n",
    "   \n",
    "   `especie[:] `\n",
    "\n",
    "    `especie[11:-3] `\n",
    "\n",
    "    `especie[-5:-3]`\n",
    "\n",
    "2. ¿Qué pasa cuando eliges un índice final que es más grande que la cantidad de elementos en la lista? (Ej. `especie[0:20]` o `especie[:103]`)\n",
    "\n"
   ]
  },
  {
   "cell_type": "markdown",
   "metadata": {
    "id": "V2iLqUQ7xa30"
   },
   "source": [
    "### 1.5 En resumen\n",
    "\n",
    "* Las variables básicas de Python son de tipo entero (integer), decimal (floats) o cadenas (strings)\n",
    "* Usa la función `type` para encontrar el tipo de un valor.\n",
    "* El tipo controla qué operaciones podemos hacer con una variable.\n",
    "* Usa `variable = valor` para asignar un valor a una variable y guardarlo en memoria.\n",
    "* Las variables se crean conforme se requieren cuando se les asigna un valor.\n",
    "* Usa `print(algo)` para mostrar o imprimir el valor de `algo`.\n",
    "* Selecciona una rebanada de una lista usando los índices de los elementos que quieres usando la notación `lista[inicio:final]`."
   ]
  },
  {
   "cell_type": "markdown",
   "metadata": {
    "id": "S49t7c3jB-he"
   },
   "source": [
    "## 2. Funciones nativas, ayuda y mensajes de error\n",
    "\n",
    "### 2.1 Funciones\n",
    "\n",
    "Ya hemos visto algunas funciones (Ej. print, type) - Ahora veamos con más cuidado como podemos \"llamar\" o ejecutar funciones.\n",
    "\n",
    "El **argumento** es el valor que le pasamos a la función.\n",
    "\n",
    "La función `len` nos dice la longitud de una cadena y toma exactamente un valor como argumento:\n"
   ]
  },
  {
   "cell_type": "code",
   "execution_count": 22,
   "metadata": {
    "colab": {
     "base_uri": "https://localhost:8080/"
    },
    "executionInfo": {
     "elapsed": 212,
     "status": "ok",
     "timestamp": 1656468742954,
     "user": {
      "displayName": "Karina Ramos Musalem",
      "userId": "12077642953192237406"
     },
     "user_tz": 300
    },
    "id": "o3nUXk5NCL0g",
    "outputId": "d920b7d0-dc3e-4f5a-8ad7-96a17ac8ae28"
   },
   "outputs": [
    {
     "name": "stdout",
     "output_type": "stream",
     "text": [
      "5\n"
     ]
    }
   ],
   "source": [
    "print(len('verde'))"
   ]
  },
  {
   "cell_type": "markdown",
   "metadata": {
    "id": "AYMR8tkoDmkl"
   },
   "source": [
    "`print` puede tomar 0 o 1 valores como argumento"
   ]
  },
  {
   "cell_type": "code",
   "execution_count": 23,
   "metadata": {
    "colab": {
     "base_uri": "https://localhost:8080/"
    },
    "executionInfo": {
     "elapsed": 237,
     "status": "ok",
     "timestamp": 1656468745089,
     "user": {
      "displayName": "Karina Ramos Musalem",
      "userId": "12077642953192237406"
     },
     "user_tz": 300
    },
    "id": "4hYFPdaSDmRX",
    "outputId": "788defa1-7c03-4461-ff3a-76d9a337d879"
   },
   "outputs": [
    {
     "name": "stdout",
     "output_type": "stream",
     "text": [
      "antes\n",
      "\n",
      "después\n"
     ]
    }
   ],
   "source": [
    "print('antes')\n",
    "print()\n",
    "print('después')"
   ]
  },
  {
   "cell_type": "markdown",
   "metadata": {
    "id": "o6qkzKtcD3cp"
   },
   "source": [
    "**Siempre debemos poner el paréntesis, aún si no hay argumento, para que Python entienda que estamos llamando a una función.**"
   ]
  },
  {
   "cell_type": "markdown",
   "metadata": {
    "id": "1ai2FFMsENJz"
   },
   "source": [
    "Cada llamada a una función regresa \"algo\".\n",
    "\n",
    "Si la función no regresa nada útil, regularmente regresa el valor especial `None`, que es un objeto de Python que funciona como comodín cuando no hay un valor."
   ]
  },
  {
   "cell_type": "code",
   "execution_count": 24,
   "metadata": {
    "colab": {
     "base_uri": "https://localhost:8080/"
    },
    "executionInfo": {
     "elapsed": 244,
     "status": "ok",
     "timestamp": 1656468747283,
     "user": {
      "displayName": "Karina Ramos Musalem",
      "userId": "12077642953192237406"
     },
     "user_tz": 300
    },
    "id": "cZxMKnIIEsbP",
    "outputId": "664cabb4-6d79-465e-9ead-7f52bc9b3aa3"
   },
   "outputs": [
    {
     "name": "stdout",
     "output_type": "stream",
     "text": [
      "ejemplo\n",
      "El resultado de la función print es None\n"
     ]
    }
   ],
   "source": [
    "resultado = print('ejemplo')\n",
    "print('El resultado de la función print es', resultado)"
   ]
  },
  {
   "cell_type": "markdown",
   "metadata": {
    "id": "85MujX-hF9OD"
   },
   "source": [
    "Las funciones pueden tener valores por default para algunos argumentos. Por ejemplo, la función `round` redondea un decimal. Pero si no especificamos a cuántos dígitos queremos redondear, el valor por omisión es redondear a 0 decimales:"
   ]
  },
  {
   "cell_type": "code",
   "execution_count": 25,
   "metadata": {
    "colab": {
     "base_uri": "https://localhost:8080/"
    },
    "executionInfo": {
     "elapsed": 346,
     "status": "ok",
     "timestamp": 1656468748528,
     "user": {
      "displayName": "Karina Ramos Musalem",
      "userId": "12077642953192237406"
     },
     "user_tz": 300
    },
    "id": "1wcRFpNvG1w4",
    "outputId": "00f4cd15-dcfc-4b7f-e594-28c1a3e7ba09"
   },
   "outputs": [
    {
     "data": {
      "text/plain": [
       "4"
      ]
     },
     "execution_count": 25,
     "metadata": {},
     "output_type": "execute_result"
    }
   ],
   "source": [
    "round(3.712)"
   ]
  },
  {
   "cell_type": "markdown",
   "metadata": {
    "id": "BkBnrp1ZHLpq"
   },
   "source": [
    "En cambio, podemos especificar el número de decimales si pasamos un valor para el segundo argumento:"
   ]
  },
  {
   "cell_type": "code",
   "execution_count": 26,
   "metadata": {
    "colab": {
     "base_uri": "https://localhost:8080/"
    },
    "executionInfo": {
     "elapsed": 8,
     "status": "ok",
     "timestamp": 1656468749398,
     "user": {
      "displayName": "Karina Ramos Musalem",
      "userId": "12077642953192237406"
     },
     "user_tz": 300
    },
    "id": "nWNou01gHF1g",
    "outputId": "0240a0f3-bb91-46dd-c547-0ea496719e4b"
   },
   "outputs": [
    {
     "data": {
      "text/plain": [
       "3.7"
      ]
     },
     "execution_count": 26,
     "metadata": {},
     "output_type": "execute_result"
    }
   ],
   "source": [
    "round(3.712, 1)"
   ]
  },
  {
   "cell_type": "markdown",
   "metadata": {
    "id": "srSKpx63FIEK"
   },
   "source": [
    "#### Pon en práctica lo que aprendiste\n",
    "\n",
    "Si Python empieza a contar desde 0, y la función `len` regresa el número de caracteres en una cadena, ¿cómo podemos imprimir el último caracter de una cadena arbitraria usando índices y la función `len`?"
   ]
  },
  {
   "cell_type": "code",
   "execution_count": 27,
   "metadata": {},
   "outputs": [],
   "source": [
    "# Programa tu solución aquí"
   ]
  },
  {
   "cell_type": "markdown",
   "metadata": {
    "id": "x1jfuZouHhcR"
   },
   "source": [
    "### 2.2 Métodos\n",
    "Las funciones pueden tomar otra forma, que aparecerá en secciones más adelante. Cuando una función está atada a un objeto se le concoe como un **método**. Los métodos tienen paréntesis, como las funciones, pero se colocan después de la variable a la que queremos aplicarle el método o función.\n",
    "\n",
    "Algunos métodos se usan para operaciones internas de Python y se denotan con doble guión bajo."
   ]
  },
  {
   "cell_type": "code",
   "execution_count": 28,
   "metadata": {
    "colab": {
     "base_uri": "https://localhost:8080/"
    },
    "executionInfo": {
     "elapsed": 460,
     "status": "ok",
     "timestamp": 1656468751785,
     "user": {
      "displayName": "Karina Ramos Musalem",
      "userId": "12077642953192237406"
     },
     "user_tz": 300
    },
    "id": "0x9_KOsMIaiz",
    "outputId": "21724534-3712-43c1-9c05-cc51ef12867e"
   },
   "outputs": [
    {
     "name": "stdout",
     "output_type": "stream",
     "text": [
      "11\n",
      "hOLA mUNDO!\n",
      "11\n"
     ]
    }
   ],
   "source": [
    "mi_cadena = 'Hola Mundo!'   # creación de un objeto cadena  \n",
    "\n",
    "print(len(mi_cadena))       # la función len toma una cadena como argumento y regresa la longitud de la cadena\n",
    "\n",
    "print(mi_cadena.swapcase()) # Llamando al método swapcase sobre el objeto mi_cadena\n",
    "\n",
    "print(mi_cadena.__len__())  # Llamando al método interno  __len__ sobre mi_cadena"
   ]
  },
  {
   "cell_type": "markdown",
   "metadata": {
    "id": "l8cjdRwdJEcs"
   },
   "source": [
    "¡Puede ser que los veas seguidos! Operan de izquierda a derecha:\n",
    " \n"
   ]
  },
  {
   "cell_type": "code",
   "execution_count": 29,
   "metadata": {
    "colab": {
     "base_uri": "https://localhost:8080/"
    },
    "executionInfo": {
     "elapsed": 220,
     "status": "ok",
     "timestamp": 1656468753192,
     "user": {
      "displayName": "Karina Ramos Musalem",
      "userId": "12077642953192237406"
     },
     "user_tz": 300
    },
    "id": "zz1LkTXiJVOL",
    "outputId": "3cb00f49-4638-4810-943b-de773a77b38b"
   },
   "outputs": [
    {
     "name": "stdout",
     "output_type": "stream",
     "text": [
      "False\n",
      "HOLA MUNDO!\n",
      "True\n"
     ]
    }
   ],
   "source": [
    "print(mi_cadena.isupper())         # No todas las letras son mayúsculas\n",
    "\n",
    "print(mi_cadena.upper())           # Esto cambia todas las letras a mayúsculas\n",
    "\n",
    "print(mi_cadena.upper().isupper()) # Ahora todas las letras son mayúsculas"
   ]
  },
  {
   "cell_type": "markdown",
   "metadata": {
    "id": "tu30zcGHKFH1"
   },
   "source": [
    "### 2.3 Ayuda \n",
    "Usa la función `help` para obtener información acerca del uso de una función. Todas las funciones nativas tienen documentación en línea.\n"
   ]
  },
  {
   "cell_type": "code",
   "execution_count": 30,
   "metadata": {
    "colab": {
     "base_uri": "https://localhost:8080/"
    },
    "executionInfo": {
     "elapsed": 238,
     "status": "ok",
     "timestamp": 1656468754477,
     "user": {
      "displayName": "Karina Ramos Musalem",
      "userId": "12077642953192237406"
     },
     "user_tz": 300
    },
    "id": "uAUEQCsHJuCr",
    "outputId": "bacfe0c1-1fd8-4224-ce79-84d565b04379"
   },
   "outputs": [
    {
     "name": "stdout",
     "output_type": "stream",
     "text": [
      "Help on built-in function round in module builtins:\n",
      "\n",
      "round(number, ndigits=None)\n",
      "    Round a number to a given precision in decimal digits.\n",
      "    \n",
      "    The return value is an integer if ndigits is omitted or None.  Otherwise\n",
      "    the return value has the same type as the number.  ndigits may be negative.\n",
      "\n"
     ]
    }
   ],
   "source": [
    "help(round)"
   ]
  },
  {
   "cell_type": "markdown",
   "metadata": {
    "id": "RFzlgwnrKnGV"
   },
   "source": [
    "En los notebooks de Jupyter hay dos maneras de obtener ayuda. \n",
    "\n",
    "1. Coloca el cursor cerca de donde llamas a la función en una celda y oprime Shift + tab.\n",
    "\n",
    "2. Teclea el nombre de la función en una celda con un signo de interrogación al final y corre la celda"
   ]
  },
  {
   "cell_type": "code",
   "execution_count": 31,
   "metadata": {
    "id": "tV3uwZfHKbWu"
   },
   "outputs": [
    {
     "data": {
      "text/plain": [
       "\u001b[0;31mSignature:\u001b[0m \u001b[0mround\u001b[0m\u001b[0;34m(\u001b[0m\u001b[0mnumber\u001b[0m\u001b[0;34m,\u001b[0m \u001b[0mndigits\u001b[0m\u001b[0;34m=\u001b[0m\u001b[0;32mNone\u001b[0m\u001b[0;34m)\u001b[0m\u001b[0;34m\u001b[0m\u001b[0;34m\u001b[0m\u001b[0m\n",
       "\u001b[0;31mDocstring:\u001b[0m\n",
       "Round a number to a given precision in decimal digits.\n",
       "\n",
       "The return value is an integer if ndigits is omitted or None.  Otherwise\n",
       "the return value has the same type as the number.  ndigits may be negative.\n",
       "\u001b[0;31mType:\u001b[0m      builtin_function_or_method\n"
      ]
     },
     "metadata": {},
     "output_type": "display_data"
    }
   ],
   "source": [
    "round?"
   ]
  },
  {
   "cell_type": "markdown",
   "metadata": {
    "id": "UCWzd3SoLP71"
   },
   "source": [
    "### 2.4 Mensajes de error\n",
    "\n",
    "Python reporta un **error de sintaxis** cuando no puede entender la fuente de un programa o cuando no usamos la sintaxis correcta para llamarlo. Ni siquiera intentará correr el programa si no lo entiende.\n"
   ]
  },
  {
   "cell_type": "code",
   "execution_count": 32,
   "metadata": {
    "colab": {
     "base_uri": "https://localhost:8080/",
     "height": 134
    },
    "executionInfo": {
     "elapsed": 223,
     "status": "error",
     "timestamp": 1656468760502,
     "user": {
      "displayName": "Karina Ramos Musalem",
      "userId": "12077642953192237406"
     },
     "user_tz": 300
    },
    "id": "d4QEwNiOLmEj",
    "outputId": "c9b57d77-b14a-4f52-a7eb-f18bac809dc6"
   },
   "outputs": [
    {
     "ename": "SyntaxError",
     "evalue": "EOL while scanning string literal (<ipython-input-32-b47fdb3bdb6d>, line 2)",
     "output_type": "error",
     "traceback": [
      "\u001b[0;36m  File \u001b[0;32m\"<ipython-input-32-b47fdb3bdb6d>\"\u001b[0;36m, line \u001b[0;32m2\u001b[0m\n\u001b[0;31m    name = 'Feng\u001b[0m\n\u001b[0m                ^\u001b[0m\n\u001b[0;31mSyntaxError\u001b[0m\u001b[0;31m:\u001b[0m EOL while scanning string literal\n"
     ]
    }
   ],
   "source": [
    "# Olvidé cerrar las comillas al definir la cadena\n",
    "name = 'Feng"
   ]
  },
  {
   "cell_type": "code",
   "execution_count": 33,
   "metadata": {
    "colab": {
     "base_uri": "https://localhost:8080/",
     "height": 134
    },
    "executionInfo": {
     "elapsed": 247,
     "status": "error",
     "timestamp": 1656468762316,
     "user": {
      "displayName": "Karina Ramos Musalem",
      "userId": "12077642953192237406"
     },
     "user_tz": 300
    },
    "id": "ykSEtYteLsHV",
    "outputId": "eeb4212f-e304-46d5-e24a-7760e0e89cd9"
   },
   "outputs": [
    {
     "ename": "SyntaxError",
     "evalue": "invalid syntax (<ipython-input-33-c8bf44ee6a52>, line 2)",
     "output_type": "error",
     "traceback": [
      "\u001b[0;36m  File \u001b[0;32m\"<ipython-input-33-c8bf44ee6a52>\"\u001b[0;36m, line \u001b[0;32m2\u001b[0m\n\u001b[0;31m    edad = = 53\u001b[0m\n\u001b[0m           ^\u001b[0m\n\u001b[0;31mSyntaxError\u001b[0m\u001b[0;31m:\u001b[0m invalid syntax\n"
     ]
    }
   ],
   "source": [
    "# Un '=' extra  en la asiganción\n",
    "edad = = 53"
   ]
  },
  {
   "cell_type": "markdown",
   "metadata": {
    "id": "S53fL3iIMBEd"
   },
   "source": [
    "Analicemos el mensaje de error:"
   ]
  },
  {
   "cell_type": "code",
   "execution_count": 34,
   "metadata": {
    "colab": {
     "base_uri": "https://localhost:8080/",
     "height": 134
    },
    "executionInfo": {
     "elapsed": 214,
     "status": "error",
     "timestamp": 1656468764704,
     "user": {
      "displayName": "Karina Ramos Musalem",
      "userId": "12077642953192237406"
     },
     "user_tz": 300
    },
    "id": "J1lKfxYIMB_X",
    "outputId": "526ffcfe-f29a-46b7-a711-ede4cc5e8718"
   },
   "outputs": [
    {
     "ename": "SyntaxError",
     "evalue": "unexpected EOF while parsing (<ipython-input-34-fe69f65f3ba9>, line 1)",
     "output_type": "error",
     "traceback": [
      "\u001b[0;36m  File \u001b[0;32m\"<ipython-input-34-fe69f65f3ba9>\"\u001b[0;36m, line \u001b[0;32m1\u001b[0m\n\u001b[0;31m    print(\"hello world\"\u001b[0m\n\u001b[0m                       ^\u001b[0m\n\u001b[0;31mSyntaxError\u001b[0m\u001b[0;31m:\u001b[0m unexpected EOF while parsing\n"
     ]
    }
   ],
   "source": [
    "print(\"hello world\""
   ]
  },
  {
   "cell_type": "markdown",
   "metadata": {
    "id": "R0ePTt1pMHeK"
   },
   "source": [
    "\n",
    "El mensaje indica que hay un problema en la primera línea del input (line 1)\n",
    "        \n",
    "En este caso la sección \"<ipython-input-\"  nos dice que estamos trabajando con input en Ipython, el intérprete de Python que usa el Jupyter notebook. \n",
    "\n",
    "La parte -34- indica que el error es en la celda 34.\n",
    "\n",
    "Después viene la línea problemática del código, que indica el problema en el código con un ^."
   ]
  },
  {
   "cell_type": "markdown",
   "metadata": {
    "id": "guAKFon3NbTR"
   },
   "source": [
    "Python reporta un **error de runtime** cuando algo sale mal mientras el programa se ejecuta y un **error de nombre** cuendo llamamos a una variable que no está definida:"
   ]
  },
  {
   "cell_type": "code",
   "execution_count": 35,
   "metadata": {
    "colab": {
     "base_uri": "https://localhost:8080/",
     "height": 189
    },
    "executionInfo": {
     "elapsed": 215,
     "status": "error",
     "timestamp": 1656468768703,
     "user": {
      "displayName": "Karina Ramos Musalem",
      "userId": "12077642953192237406"
     },
     "user_tz": 300
    },
    "id": "tHqkfetzNZaT",
    "outputId": "7ede8ad6-d420-4e50-ad13-613dccdc4d68"
   },
   "outputs": [
    {
     "ename": "NameError",
     "evalue": "name 'egdad' is not defined",
     "output_type": "error",
     "traceback": [
      "\u001b[0;31m---------------------------------------------------------------------------\u001b[0m",
      "\u001b[0;31mNameError\u001b[0m                                 Traceback (most recent call last)",
      "\u001b[0;32m<ipython-input-35-8d4bcc3effc5>\u001b[0m in \u001b[0;36m<module>\u001b[0;34m\u001b[0m\n\u001b[1;32m      1\u001b[0m \u001b[0medad\u001b[0m \u001b[0;34m=\u001b[0m \u001b[0;36m52\u001b[0m\u001b[0;34m\u001b[0m\u001b[0;34m\u001b[0m\u001b[0m\n\u001b[0;32m----> 2\u001b[0;31m \u001b[0mremaining\u001b[0m \u001b[0;34m=\u001b[0m \u001b[0;36m100\u001b[0m \u001b[0;34m-\u001b[0m \u001b[0megdad\u001b[0m \u001b[0;31m# 'edad' está mal escrito\u001b[0m\u001b[0;34m\u001b[0m\u001b[0;34m\u001b[0m\u001b[0m\n\u001b[0m",
      "\u001b[0;31mNameError\u001b[0m: name 'egdad' is not defined"
     ]
    }
   ],
   "source": [
    "edad = 52\n",
    "remaining = 100 - egdad # 'edad' está mal escrito"
   ]
  },
  {
   "cell_type": "markdown",
   "metadata": {
    "id": "8OhS3cplNwS5"
   },
   "source": [
    "La página ofical de [documentación de Python](https://docs.python.org/es/3/index.html) es la fuente más completa de información acerca del lenguaje. Está **disponible en distintos idiomas** y tiene muchos recursos disponibles. La sección de [funciones nativas](https://docs.python.org/es/3/library/functions.html) contiene un catálogo de todas las funciones, incuidas las que vimos en esta sección.\n"
   ]
  },
  {
   "cell_type": "markdown",
   "metadata": {},
   "source": [
    "### 3. La biblioteca `numpy`"
   ]
  },
  {
   "cell_type": "markdown",
   "metadata": {},
   "source": [
    "Usamos la biblioteca [NumPy](https://numpy.org/), llamada así por *Numerical Python*, cuando queremos hacer operaciones sofisticadas (y no tanto) con muchos números, especialmente si tenemos matrices o arreglos. Para decirle a Python que queremos empezar a usar NumPy debemos **importar** NumPy:"
   ]
  },
  {
   "cell_type": "code",
   "execution_count": 37,
   "metadata": {},
   "outputs": [],
   "source": [
    "import numpy"
   ]
  },
  {
   "cell_type": "markdown",
   "metadata": {},
   "source": [
    "Importar una biblioteca es como sacar un instrumento de laboratorio de la bodega para tenerlo a la mano. Las bibliotecas nos permiten usar funciones adicionales a las del paquete básico de Python. Así como en el laboratorio, importar demasiadas bibliotecas puede complicar o frenar tus programas -- así que solo importa lo que necesites.\n",
    "\n",
    "Una vez que importamos la biblioteca numpy podemos pedirle que lea nuestro archivo de datos:"
   ]
  },
  {
   "cell_type": "code",
   "execution_count": 40,
   "metadata": {},
   "outputs": [
    {
     "data": {
      "text/plain": [
       "array([[0.   , 0.   , 0.   , 0.   , 0.   , 0.   , 0.   , 0.173, 0.021,\n",
       "        0.035, 0.014, 0.   ],\n",
       "       [0.005, 0.021, 0.026, 0.001, 0.003, 0.079, 0.113, 0.084, 0.064,\n",
       "        0.012, 0.007, 0.   ],\n",
       "       [0.   , 0.001, 0.001, 0.014, 0.032, 0.069, 0.069, 0.115, 0.135,\n",
       "        0.071, 0.033, 0.   ],\n",
       "       [0.001, 0.006, 0.005, 0.015, 0.068, 0.085, 0.061, 0.078, 0.07 ,\n",
       "        0.067, 0.006, 0.015],\n",
       "       [0.   , 0.003, 0.   , 0.009, 0.103, 0.063, 0.03 , 0.068, 0.098,\n",
       "        0.009, 0.001, 0.   ],\n",
       "       [0.005, 0.   , 0.013, 0.009, 0.028, 0.06 , 0.092, 0.076, 0.081,\n",
       "        0.01 , 0.042, 0.   ],\n",
       "       [0.   , 0.   , 0.012, 0.016, 0.048, 0.085, 0.165, 0.126, 0.126,\n",
       "        0.   , 0.   , 0.   ],\n",
       "       [0.008, 0.001, 0.008, 0.02 , 0.024, 0.059, 0.063, 0.107, 0.065,\n",
       "        0.046, 0.012, 0.   ]])"
      ]
     },
     "execution_count": 40,
     "metadata": {},
     "output_type": "execute_result"
    }
   ],
   "source": [
    "numpy.loadtxt(fname='datos/precip_mensual_estacion01.csv', delimiter=',')"
   ]
  },
  {
   "cell_type": "markdown",
   "metadata": {},
   "source": [
    "El comando `numpy.loadtxt(...)` es un llamado que le pide a Python que ejecute la función `loadtxt`que pertenece a la biblioteca `numpy`. Esta notación se usa en todo Python: la cosa que aparce después del punto está contenida en la cosa antes del punto.\n",
    "\n",
    "`numpy.loadtxt` tiene dos **parámetros** o **argumentos**: el numbre del archivo que vamos a leer y el *delimiter* que nos dice cuál es el caracter que separa los valores en cada línea. Ambos parámtros deben ser tipo *string*, por lo que los rodeamos con comillas.\n",
    "\n",
    "Como no le hemos dicho a Python que haga algo con el output o resultado de la función, el notebook imprime los datos por default. Solo muestra algunas líneas y columnas (usa `...` para omitir algunos elementos cuando el arreglo es muy grande). Para ahorrar espacio, python no muestra los ceros después del punto decimal (1. en vez de 1.0)."
   ]
  },
  {
   "cell_type": "markdown",
   "metadata": {},
   "source": [
    "#### **Nota: Atajo para importación de bibliotecas** \n",
    "\n",
    "En esta clase usamos la sintaxis `import numpy` para importar NumPy. Después llamamos a las funciones dentro de numpy como `numpy.función`. Es posible utilizar un nombre mas corto para numpy usando la sintáxis `import numpy as np`. Así, llamamos a las funciones dentro de numpy como `np.función`. Esta es una práctica común, y resulta en líneas de código más cortas, especialmente si el nombre de la biblioteca es muy largo. Puedes usar la sintáxis que prefieras pero ten cuidado de usar nombres cortos que sean descriptivos y tengan sentido para otros. Es decir, no abrevies `numpy `como `n`, eso puede ser confuso."
   ]
  },
  {
   "cell_type": "markdown",
   "metadata": {},
   "source": [
    "Volviendo a los datos, nuestra ejecución de `numpy.loadtxt` leyó los datos pero no los guardó en memoria. Para ello debemos asignar el arreglo de datos a una variable. Ejecutemos de nuevo `numpy.loadtxt` asignando los datos a una variable:"
   ]
  },
  {
   "cell_type": "code",
   "execution_count": 41,
   "metadata": {},
   "outputs": [],
   "source": [
    "data = numpy.loadtxt(fname='datos/precip_mensual_estacion01.csv', delimiter=',')"
   ]
  },
  {
   "cell_type": "markdown",
   "metadata": {},
   "source": [
    "Esto no produce ningún output porque asignamos el output a la variable `data`. Para corroborar que se guardaron los datos, imprimimos el valor de la variable `data`:"
   ]
  },
  {
   "cell_type": "code",
   "execution_count": 42,
   "metadata": {},
   "outputs": [
    {
     "name": "stdout",
     "output_type": "stream",
     "text": [
      "[[0.    0.    0.    0.    0.    0.    0.    0.173 0.021 0.035 0.014 0.   ]\n",
      " [0.005 0.021 0.026 0.001 0.003 0.079 0.113 0.084 0.064 0.012 0.007 0.   ]\n",
      " [0.    0.001 0.001 0.014 0.032 0.069 0.069 0.115 0.135 0.071 0.033 0.   ]\n",
      " [0.001 0.006 0.005 0.015 0.068 0.085 0.061 0.078 0.07  0.067 0.006 0.015]\n",
      " [0.    0.003 0.    0.009 0.103 0.063 0.03  0.068 0.098 0.009 0.001 0.   ]\n",
      " [0.005 0.    0.013 0.009 0.028 0.06  0.092 0.076 0.081 0.01  0.042 0.   ]\n",
      " [0.    0.    0.012 0.016 0.048 0.085 0.165 0.126 0.126 0.    0.    0.   ]\n",
      " [0.008 0.001 0.008 0.02  0.024 0.059 0.063 0.107 0.065 0.046 0.012 0.   ]]\n"
     ]
    }
   ],
   "source": [
    "print(data)"
   ]
  },
  {
   "cell_type": "markdown",
   "metadata": {},
   "source": [
    "Ahora que tenemos los datos en memoria, podemos manipularlos. Primero, preguntemos qué **tipo** de cosa es `data`:"
   ]
  },
  {
   "cell_type": "code",
   "execution_count": 43,
   "metadata": {},
   "outputs": [
    {
     "name": "stdout",
     "output_type": "stream",
     "text": [
      "<class 'numpy.ndarray'>\n"
     ]
    }
   ],
   "source": [
    "print(type(data))"
   ]
  },
  {
   "cell_type": "markdown",
   "metadata": {},
   "source": [
    "El output nos dice que `data`es un arreglo de numpy N-dimensional. \n",
    "\n",
    "Los datos corresponden a la precipitación anual en la estación Meteorológica [PEMBU](https://www.ruoa.unam.mx/pembu/) del Instituto de Ciencias de la Atmósfera y Cambio Climático de la UNAM ([ICAyCC](https://www.atmosfera.unam.mx/)). Las filas de este arreglo correponden a distintos años (2011-2018) y las columnas a la precipitación promedio por mes del año. La precipitación está medida en milímetros de lluvia. \n",
    "\n",
    "NOTA: Un arrelgo de NumPy contiene uno o más elementos del mismo tipo. La función `type` solo nos dice que la variable `data` es un arreglo de NumPy pero no te dice el tipo de las cosas dentro del arreglo. Podemos conocer el tipo de los datos contenidos en `data` utilizando:"
   ]
  },
  {
   "cell_type": "code",
   "execution_count": 44,
   "metadata": {},
   "outputs": [
    {
     "name": "stdout",
     "output_type": "stream",
     "text": [
      "float64\n"
     ]
    }
   ],
   "source": [
    "print(data.dtype)"
   ]
  },
  {
   "cell_type": "markdown",
   "metadata": {},
   "source": [
    "Esto nos dice que los elementos del arreglo de NumPy `data` son de tipo decimal o `float`.\n",
    "\n",
    "Con el siguiente comando podemos conocer la forma o tamaño del arreglo:"
   ]
  },
  {
   "cell_type": "code",
   "execution_count": 46,
   "metadata": {},
   "outputs": [
    {
     "name": "stdout",
     "output_type": "stream",
     "text": [
      "(8, 12)\n"
     ]
    }
   ],
   "source": [
    "print(data.shape)"
   ]
  },
  {
   "cell_type": "markdown",
   "metadata": {},
   "source": [
    "Esto nos dice que el arreglo `data` contiene 8 filas y 12 columnas. Hemos creado la variable `data` para guardar la información de la precipitación mensual, pero no solo creamos eso; también creamos automáticamente información acerca del arreglo llamada miembros o atributos. Esta información adicional describe a `data`de la misma forma que un adjetivo describe a un sustantivo. `data.shape`es un atributo de data que describe las dimensiones de `data`. Usamos la misma notación de punto para los atributos de variables que para las funciones en bibliotecas porque tienen la misma relación todo-parte.\n",
    "\n",
    "Como vimos antes para cadenas y listas, si queremos seleccionar o sacar un solo número del arreglo, debemos proporcionar un índice entre paréntesis cuadrados `[]` después del nombre de la variable. Nuestros datos de precipitación tienen dos dimensiones, por lo que debemos porporcionar dos índices para referirnos a un valor específico:"
   ]
  },
  {
   "cell_type": "code",
   "execution_count": 47,
   "metadata": {},
   "outputs": [
    {
     "name": "stdout",
     "output_type": "stream",
     "text": [
      "el primer elemento en data es: 0.0\n"
     ]
    }
   ],
   "source": [
    "print('el primer elemento en data es:', data[0,0])"
   ]
  },
  {
   "cell_type": "code",
   "execution_count": 48,
   "metadata": {},
   "outputs": [
    {
     "name": "stdout",
     "output_type": "stream",
     "text": [
      "el elemento en la mitad de data es: 0.03\n"
     ]
    }
   ],
   "source": [
    "print('el elemento en la mitad de data es:', data[4,6])"
   ]
  },
  {
   "cell_type": "markdown",
   "metadata": {},
   "source": [
    "Usamos `data[0,0]`para elegir el elemento en la primera columna primer renglón. Los lenguajes de programación como Fortran, Matlab y R empiezan a contar desde 1 porque eso hacen los humanos. Los lenguajes en la familia C (como C++, Java, Perl y Python) cuentan desde 0 porque eso representa el incremento desde el primer valor en el arreglo (el segundo valor está desplazado por un índice desde el primer valor). Esto es más cercano a la forma en que las computadoras repesentan arreglos (Aqui hay una [entrada del blog de Mike Hoye](http://exple.tive.org/blarg/2013/10/22/citation-needed/) si les interesa saber más sobre esto).\n",
    "\n",
    "Como resultado, si tenemos un arreglo de MxN en Python, sus índices van del 0 a M-1 en la primera dimensión y de 0 a N-1 en la segunda. Lleva un rato acostumbrarse, pero pueden pensar que la regla es que el índice es el número de pasos tenemos que saltar desde el comienzo hasta el elemento que queremos.\n",
    "\n",
    "<img src=\"imagenes/indices.svg\">"
   ]
  },
  {
   "cell_type": "markdown",
   "metadata": {},
   "source": [
    "Otra nota al respecto. Python muestra el elemento con índices `[0,0]`en el extremo superior izquierdo. Esto es consistente con la forma en que dibujamos matrices en matemáticas, pero distinto a las coordenadas Cartesianas. **Los índices son (fila, columna)**."
   ]
  },
  {
   "cell_type": "markdown",
   "metadata": {},
   "source": [
    "### 2.2 Seleccionar porciones o \"rebanadas\" de datos\n",
    "\n",
    "Usando índices como `[3,8]` seleccionamos un solo elemento del arreglo, pero podemos seleccionar secciones o rebanadas (*slice* en inglés) también. Por ejemplo, podemos seleccionar los primeros 5 meses de datos (columnas) de los primeros 4 años (filas): "
   ]
  },
  {
   "cell_type": "code",
   "execution_count": 49,
   "metadata": {},
   "outputs": [
    {
     "name": "stdout",
     "output_type": "stream",
     "text": [
      "[[0.    0.    0.    0.    0.   ]\n",
      " [0.005 0.021 0.026 0.001 0.003]\n",
      " [0.    0.001 0.001 0.014 0.032]\n",
      " [0.001 0.006 0.005 0.015 0.068]]\n"
     ]
    }
   ],
   "source": [
    "print(data[0:4, 0:5])"
   ]
  },
  {
   "cell_type": "markdown",
   "metadata": {},
   "source": [
    "La selección o rebanada `0:4` quiere decir \"Empieza en el índice 0 y selecciona hasta, pero **sin incluir**, el índice 4\". De nuevo, lleva un poco de tiempo acostumbrarse a este \"hasta, pero no incluyas\", pero la regla es que la diferencia entre los límites inferior y superior es el número de valores en la rebanada.\n",
    "\n",
    "Las rebanadas no tienen que empezar en 0:"
   ]
  },
  {
   "cell_type": "code",
   "execution_count": 52,
   "metadata": {},
   "outputs": [
    {
     "name": "stdout",
     "output_type": "stream",
     "text": [
      "[[0.    0.013 0.009 0.028 0.06  0.092 0.076 0.081]\n",
      " [0.    0.012 0.016 0.048 0.085 0.165 0.126 0.126]\n",
      " [0.001 0.008 0.02  0.024 0.059 0.063 0.107 0.065]]\n"
     ]
    }
   ],
   "source": [
    "print(data[5:8, 1:9])"
   ]
  },
  {
   "cell_type": "markdown",
   "metadata": {},
   "source": [
    "Además, no es necesario incluir los límites superior e inferior de la selección. Si no incluimos límite inferior, Python usa el 0 como default; si no incluimos el superior, Python selecciona hasta el último elemento de ese eje; si no especificamos ningún límite (`:`), Python selecciona todo el eje:"
   ]
  },
  {
   "cell_type": "code",
   "execution_count": 53,
   "metadata": {},
   "outputs": [
    {
     "name": "stdout",
     "output_type": "stream",
     "text": [
      "la rebanada es:\n",
      "[[0.021 0.035 0.014 0.   ]\n",
      " [0.064 0.012 0.007 0.   ]\n",
      " [0.135 0.071 0.033 0.   ]]\n"
     ]
    }
   ],
   "source": [
    "rebanada = data[:3, 8:]\n",
    "print('la rebanada es:')\n",
    "print(rebanada)"
   ]
  },
  {
   "cell_type": "markdown",
   "metadata": {},
   "source": [
    "El ejemplo anterior selecciona las filas 0 a 2 y las columnas 8 al final del arreglo."
   ]
  },
  {
   "cell_type": "markdown",
   "metadata": {},
   "source": [
    "### 2.3 Analizar los datos\n",
    "\n",
    "NumPy tiene muchas funciones útiles que toman al arreglo como input para realizar alguna operación con sus valores. Si queremos encontrar el promedio anual de precipitación usando todos los años, le podemos pedir a NumPy que compute el promedio de `data`:"
   ]
  },
  {
   "cell_type": "code",
   "execution_count": 54,
   "metadata": {},
   "outputs": [
    {
     "name": "stdout",
     "output_type": "stream",
     "text": [
      "0.036104166666666666\n"
     ]
    }
   ],
   "source": [
    "print(numpy.mean(data))"
   ]
  },
  {
   "cell_type": "markdown",
   "metadata": {},
   "source": [
    "`mean` (*mean* es promedio en inglés) es una función que toma un arreglo como argumento.  "
   ]
  },
  {
   "cell_type": "markdown",
   "metadata": {},
   "source": [
    "De vuelta a los datos, usemos otras tres funciones para obtener algunos valores descriptivos de la precipitación. Además usaremos la asignación múltiple, que es una forma conveniente de asignar varios valores en una línea de código:"
   ]
  },
  {
   "cell_type": "code",
   "execution_count": 55,
   "metadata": {},
   "outputs": [
    {
     "name": "stdout",
     "output_type": "stream",
     "text": [
      "precipitación máxima (mm): 0.173\n",
      "precipitación mínima (mm): 0.0\n",
      "desviación estandar (mm): 0.0421644793157964\n"
     ]
    }
   ],
   "source": [
    "maxval, minval, stdval = numpy.max(data), numpy.min(data), numpy.std(data)\n",
    "\n",
    "print('precipitación máxima (mm):', maxval)\n",
    "print('precipitación mínima (mm):', minval)\n",
    "print('desviación estandar (mm):', stdval)"
   ]
  },
  {
   "cell_type": "markdown",
   "metadata": {},
   "source": [
    "Aquí asignamos el output de `numpy.max(data)` a la variable `maxval`, el valor de `numpy.min(data)` a la variable `minval`, etc."
   ]
  },
  {
   "cell_type": "markdown",
   "metadata": {},
   "source": [
    "#### TIP: \n",
    "Si estas trabajando en un *notebook* puedes ver las funciones dentro de una biblioteca escribiendo el `nombre-de-la-biblioteca.` y despues `Tab` (la tecla tab). Por ejemplo, escribe `numpy.` y la tecla tab para ver todas  las funciones dentro de numpy."
   ]
  },
  {
   "cell_type": "markdown",
   "metadata": {},
   "source": [
    "Cuando analizamos datos, frecuentemente queremos analizar variaciones en datos estadísticos, como la precipitación mensual máxima por año o la precipitación promedio en todos los meses de mayo. Una forma de hacer esto es crear un nuevo arreglo temporal de datos y después calcular sobre ese arreglo:  "
   ]
  },
  {
   "cell_type": "code",
   "execution_count": 56,
   "metadata": {},
   "outputs": [
    {
     "name": "stdout",
     "output_type": "stream",
     "text": [
      "La precipitación mensual máxima (mm) en 2010 fue: 0.173\n"
     ]
    }
   ],
   "source": [
    "anio_2010 = data[0, :] # 0 en el primer eje (filas), y todo en el segundo eje (columnas)print('maximum inflammation for patient 0:', numpy.max(patient_0))\n",
    "print('La precipitación mensual máxima (mm) en 2010 fue:', numpy.max(anio_2010))"
   ]
  },
  {
   "cell_type": "markdown",
   "metadata": {},
   "source": [
    "En verdad no necesitamos guardar la fila seleccionada en una variable. Podemos combinar la selección con el llamado a la función en una sola línea:"
   ]
  },
  {
   "cell_type": "code",
   "execution_count": 57,
   "metadata": {},
   "outputs": [
    {
     "name": "stdout",
     "output_type": "stream",
     "text": [
      "La precipitación mensual máxima (mm) en 2010 fue: 0.173\n"
     ]
    }
   ],
   "source": [
    "print('La precipitación mensual máxima (mm) en 2010 fue:', numpy.max(data[0,:]))"
   ]
  },
  {
   "cell_type": "markdown",
   "metadata": {},
   "source": [
    "Imagina que necesitamos la máxima precipitación en cada año (diagrama de la izquierda) o el promedio de precipitación por cada mes (derecha). Como se muestra en el diagrama, queremos realizar operaciones a lo largo de los ejes:\n",
    "\n",
    "<img src=\"imagenes/python-operations-across-axes.png\">"
   ]
  },
  {
   "cell_type": "markdown",
   "metadata": {},
   "source": [
    "La mayoría de las funciones que usan arreglos como input nos permiten especificar a lo largo de qué eje queremos hacer la operación. Si pedimos el promedio sobre el eje 0 (filas en nuestro ejemplo 2D), tenemos:"
   ]
  },
  {
   "cell_type": "code",
   "execution_count": 58,
   "metadata": {},
   "outputs": [
    {
     "name": "stdout",
     "output_type": "stream",
     "text": [
      "[0.002375 0.004    0.008125 0.0105   0.03825  0.0625   0.074125 0.103375\n",
      " 0.0825   0.03125  0.014375 0.001875]\n"
     ]
    }
   ],
   "source": [
    "print(numpy.mean(data, axis=0))"
   ]
  },
  {
   "cell_type": "markdown",
   "metadata": {},
   "source": [
    "Podemos checar rápidamente cuáles son las dimensiones del output:"
   ]
  },
  {
   "cell_type": "code",
   "execution_count": 60,
   "metadata": {},
   "outputs": [
    {
     "name": "stdout",
     "output_type": "stream",
     "text": [
      "(12,)\n"
     ]
    }
   ],
   "source": [
    "print(numpy.mean(data, axis=0).shape)"
   ]
  },
  {
   "cell_type": "markdown",
   "metadata": {},
   "source": [
    "La expresión `(12,)`nos dice que tenemos un vector de 12x1, así que esto es la precipitación promedio por mes (el promedio de precipitación para toodos los eneros, febreros, etc).\n",
    "\n",
    "Si tomamos el promedio sobre el eje 1 (columnas), obtenemos:"
   ]
  },
  {
   "cell_type": "code",
   "execution_count": 61,
   "metadata": {},
   "outputs": [
    {
     "name": "stdout",
     "output_type": "stream",
     "text": [
      "[0.02025    0.03458333 0.045      0.03975    0.032      0.03466667\n",
      " 0.04816667 0.03441667]\n"
     ]
    }
   ],
   "source": [
    "print(numpy.mean(data, axis=1))"
   ]
  },
  {
   "cell_type": "markdown",
   "metadata": {},
   "source": [
    "Que es la precipitación promedio para cada año."
   ]
  },
  {
   "cell_type": "markdown",
   "metadata": {},
   "source": [
    "### Pon en práctica lo que aprendiste\n",
    "Los arreglos se pueden apilar (*stack* en inglés) uno sobre otro usando las funciones de NumPy `vstack`y `hstack` para apliar en la vertical y horizontal, respectivamente."
   ]
  },
  {
   "cell_type": "code",
   "execution_count": 62,
   "metadata": {},
   "outputs": [
    {
     "name": "stdout",
     "output_type": "stream",
     "text": [
      "A = \n",
      "[[1 2 3]\n",
      " [4 5 6]\n",
      " [7 8 9]]\n",
      "B = \n",
      "[[1 2 3 1 2 3]\n",
      " [4 5 6 4 5 6]\n",
      " [7 8 9 7 8 9]]\n",
      "C = \n",
      "[[1 2 3]\n",
      " [4 5 6]\n",
      " [7 8 9]\n",
      " [1 2 3]\n",
      " [4 5 6]\n",
      " [7 8 9]]\n"
     ]
    }
   ],
   "source": [
    "A = numpy.array([[1,2,3], [4,5,6], [7, 8, 9]])\n",
    "print('A = ')\n",
    "print(A)\n",
    "\n",
    "B = numpy.hstack([A, A])\n",
    "print('B = ')\n",
    "print(B)\n",
    "\n",
    "C = numpy.vstack([A, A])\n",
    "print('C = ')\n",
    "print(C)"
   ]
  },
  {
   "cell_type": "markdown",
   "metadata": {},
   "source": [
    "Escribe código adicional que rebane la primera y última columna de `A`, y las apile en un arreglo de dimensiones 2x3. Usa el comando `print`para que puedas verificar tu solución."
   ]
  },
  {
   "cell_type": "code",
   "execution_count": null,
   "metadata": {},
   "outputs": [],
   "source": [
    "# Programa tu solución aquí"
   ]
  }
 ],
 "metadata": {
  "colab": {
   "name": "01_fundamentos.ipynb",
   "provenance": [],
   "toc_visible": true
  },
  "kernelspec": {
   "display_name": "Python 3",
   "language": "python",
   "name": "python3"
  },
  "language_info": {
   "codemirror_mode": {
    "name": "ipython",
    "version": 3
   },
   "file_extension": ".py",
   "mimetype": "text/x-python",
   "name": "python",
   "nbconvert_exporter": "python",
   "pygments_lexer": "ipython3",
   "version": "3.7.6"
  }
 },
 "nbformat": 4,
 "nbformat_minor": 4
}
